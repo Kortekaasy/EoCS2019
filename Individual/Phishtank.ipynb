{
 "cells": [
  {
   "cell_type": "markdown",
   "metadata": {},
   "source": [
    "# Phishtank data set transformation\n",
    "This notebook loads in the JSON file containing the phishtank dataset, takes the submission time and IP address of each submission and saves that in a csv file, named `./data/phishtank-verified.csv`"
   ]
  },
  {
   "cell_type": "code",
   "execution_count": 23,
   "metadata": {},
   "outputs": [],
   "source": [
    "import json\n",
    "import pandas as pd\n",
    "import csv"
   ]
  },
  {
   "cell_type": "code",
   "execution_count": 24,
   "metadata": {},
   "outputs": [],
   "source": [
    "csv_location = \"./data/phishtank-verified.csv\"\n",
    "csv_writer = csv.writer(open(csv_location, \"w\"))\n",
    "csv_writer.writerow([\"ip\", \"submission_time\"])\n",
    "\n",
    "json_location = \"./data/online-valid.json\"\n",
    "json_file = open(json_location, \"rb\")\n",
    "\n",
    "objs = json.loads(json_file.read())"
   ]
  },
  {
   "cell_type": "code",
   "execution_count": 25,
   "metadata": {},
   "outputs": [],
   "source": [
    "for obj in objs:\n",
    "    if obj['verified'] == 'yes':\n",
    "        for detail in obj['details']:\n",
    "            csv_writer.writerow([detail['ip_address'], obj['submission_time']])"
   ]
  },
  {
   "cell_type": "code",
   "execution_count": 22,
   "metadata": {},
   "outputs": [
    {
     "data": {
      "text/plain": [
       "{'phish_id': '6277250',\n",
       " 'url': 'http://www.kinpiratokyo.nckiamerican.gdn/',\n",
       " 'phish_detail_url': 'http://www.phishtank.com/phish_detail.php?phish_id=6277250',\n",
       " 'submission_time': '2019-11-11T19:08:35+00:00',\n",
       " 'verified': 'yes',\n",
       " 'verification_time': '2019-11-11T19:09:12+00:00',\n",
       " 'online': 'yes',\n",
       " 'details': [{'ip_address': '23.228.73.185',\n",
       "   'cidr_block': '23.228.73.0/24',\n",
       "   'announcing_network': '46573',\n",
       "   'rir': 'arin',\n",
       "   'country': 'US',\n",
       "   'detail_time': '2019-11-11T19:09:43+00:00'}],\n",
       " 'target': 'Other'}"
      ]
     },
     "execution_count": 22,
     "metadata": {},
     "output_type": "execute_result"
    }
   ],
   "source": [
    "objs[0]"
   ]
  }
 ],
 "metadata": {
  "kernelspec": {
   "display_name": "Python 3",
   "language": "python",
   "name": "python3"
  },
  "language_info": {
   "codemirror_mode": {
    "name": "ipython",
    "version": 3
   },
   "file_extension": ".py",
   "mimetype": "text/x-python",
   "name": "python",
   "nbconvert_exporter": "python",
   "pygments_lexer": "ipython3",
   "version": "3.7.3"
  }
 },
 "nbformat": 4,
 "nbformat_minor": 2
}
